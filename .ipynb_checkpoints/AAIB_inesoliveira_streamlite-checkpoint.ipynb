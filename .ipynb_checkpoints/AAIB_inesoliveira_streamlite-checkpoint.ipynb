{
 "cells": [
  {
   "cell_type": "code",
   "execution_count": 1,
   "id": "07ac8e9d",
   "metadata": {},
   "outputs": [
    {
     "ename": "ModuleNotFoundError",
     "evalue": "No module named 'paho'",
     "output_type": "error",
     "traceback": [
      "\u001b[1;31m---------------------------------------------------------------------------\u001b[0m",
      "\u001b[1;31mModuleNotFoundError\u001b[0m                       Traceback (most recent call last)",
      "\u001b[1;32m~\\AppData\\Local\\Temp\\ipykernel_25000\\2074653527.py\u001b[0m in \u001b[0;36m<module>\u001b[1;34m\u001b[0m\n\u001b[0;32m      1\u001b[0m \u001b[1;31m#pip install streamlit\u001b[0m\u001b[1;33m\u001b[0m\u001b[1;33m\u001b[0m\u001b[0m\n\u001b[1;32m----> 2\u001b[1;33m \u001b[1;32mfrom\u001b[0m \u001b[0mpaho\u001b[0m\u001b[1;33m.\u001b[0m\u001b[0mmqtt\u001b[0m \u001b[1;32mimport\u001b[0m \u001b[0mclient\u001b[0m \u001b[1;32mas\u001b[0m \u001b[0mmqtt_client\u001b[0m\u001b[1;33m\u001b[0m\u001b[1;33m\u001b[0m\u001b[0m\n\u001b[0m\u001b[0;32m      3\u001b[0m \u001b[1;32mfrom\u001b[0m \u001b[0mlibrosa\u001b[0m \u001b[1;32mimport\u001b[0m \u001b[0mdisplay\u001b[0m\u001b[1;33m\u001b[0m\u001b[1;33m\u001b[0m\u001b[0m\n\u001b[0;32m      4\u001b[0m \u001b[1;32mimport\u001b[0m \u001b[0mpaho\u001b[0m\u001b[1;33m.\u001b[0m\u001b[0mmqtt\u001b[0m\u001b[1;33m.\u001b[0m\u001b[0mclient\u001b[0m \u001b[1;32mas\u001b[0m \u001b[0mmqtt\u001b[0m\u001b[1;33m\u001b[0m\u001b[1;33m\u001b[0m\u001b[0m\n\u001b[0;32m      5\u001b[0m \u001b[1;32mimport\u001b[0m \u001b[0mstreamlit\u001b[0m \u001b[1;32mas\u001b[0m \u001b[0mst\u001b[0m\u001b[1;33m\u001b[0m\u001b[1;33m\u001b[0m\u001b[0m\n",
      "\u001b[1;31mModuleNotFoundError\u001b[0m: No module named 'paho'"
     ]
    }
   ],
   "source": [
    "#pip install streamlit\n",
    "from paho.mqtt import client as mqtt_client\n",
    "from librosa import display\n",
    "import paho.mqtt.client as mqtt\n",
    "import streamlit as st\n",
    "import numpy as np\n",
    "import librosa\n",
    "import matplotlib.pyplot as plt\n",
    "from pandas import DataFrame\n",
    "import pandas as pd\n",
    "import numpy as np\n",
    "import math\n",
    "import numpy as np\n",
    "import matplotlib.pyplot as plt\n",
    "import socket"
   ]
  },
  {
   "cell_type": "code",
   "execution_count": 2,
   "id": "42011e37",
   "metadata": {},
   "outputs": [
    {
     "ename": "NameError",
     "evalue": "name 'socket' is not defined",
     "output_type": "error",
     "traceback": [
      "\u001b[1;31m---------------------------------------------------------------------------\u001b[0m",
      "\u001b[1;31mNameError\u001b[0m                                 Traceback (most recent call last)",
      "\u001b[1;32m~\\AppData\\Local\\Temp\\ipykernel_25000\\2602881256.py\u001b[0m in \u001b[0;36m<module>\u001b[1;34m\u001b[0m\n\u001b[1;32m----> 1\u001b[1;33m \u001b[1;32mwith\u001b[0m \u001b[0msocket\u001b[0m\u001b[1;33m.\u001b[0m\u001b[0msocket\u001b[0m\u001b[1;33m(\u001b[0m\u001b[0msocket\u001b[0m\u001b[1;33m.\u001b[0m\u001b[0mAF_INET\u001b[0m\u001b[1;33m,\u001b[0m \u001b[0msocket\u001b[0m\u001b[1;33m.\u001b[0m\u001b[0mSOCK_STREAM\u001b[0m\u001b[1;33m)\u001b[0m \u001b[1;32mas\u001b[0m \u001b[0ms\u001b[0m\u001b[1;33m:\u001b[0m\u001b[1;33m\u001b[0m\u001b[1;33m\u001b[0m\u001b[0m\n\u001b[0m\u001b[0;32m      2\u001b[0m     \u001b[0mprint\u001b[0m\u001b[1;33m(\u001b[0m\u001b[1;34m'Opening socket'\u001b[0m\u001b[1;33m)\u001b[0m\u001b[1;33m\u001b[0m\u001b[1;33m\u001b[0m\u001b[0m\n\u001b[0;32m      3\u001b[0m     \u001b[0mclient\u001b[0m\u001b[1;33m=\u001b[0m\u001b[0mmqtt\u001b[0m\u001b[1;33m.\u001b[0m\u001b[0mClient\u001b[0m\u001b[1;33m(\u001b[0m\u001b[1;33m)\u001b[0m\u001b[1;33m\u001b[0m\u001b[1;33m\u001b[0m\u001b[0m\n\u001b[0;32m      4\u001b[0m     \u001b[0mclient\u001b[0m\u001b[1;33m.\u001b[0m\u001b[0mconnect\u001b[0m\u001b[1;33m(\u001b[0m\u001b[1;34m\"test.mosquitto.org\"\u001b[0m\u001b[1;33m,\u001b[0m \u001b[1;36m1883\u001b[0m\u001b[1;33m,\u001b[0m \u001b[1;36m60\u001b[0m\u001b[1;33m)\u001b[0m\u001b[1;33m\u001b[0m\u001b[1;33m\u001b[0m\u001b[0m\n\u001b[0;32m      5\u001b[0m     \u001b[0mprint\u001b[0m\u001b[1;33m(\u001b[0m\u001b[1;34m'socket closed'\u001b[0m\u001b[1;33m)\u001b[0m\u001b[1;33m\u001b[0m\u001b[1;33m\u001b[0m\u001b[0m\n",
      "\u001b[1;31mNameError\u001b[0m: name 'socket' is not defined"
     ]
    }
   ],
   "source": [
    "with socket.socket(socket.AF_INET, socket.SOCK_STREAM) as s:\n",
    "    print('Opening socket')\n",
    "    client=mqtt.Client()\n",
    "    client.connect(\"test.mosquitto.org\", 1883, 60)\n",
    "    print('socket closed') \n",
    "    print ('... end')"
   ]
  },
  {
   "cell_type": "code",
   "execution_count": 3,
   "id": "ff0ebae6",
   "metadata": {},
   "outputs": [
    {
     "ename": "NameError",
     "evalue": "name 'st' is not defined",
     "output_type": "error",
     "traceback": [
      "\u001b[1;31m---------------------------------------------------------------------------\u001b[0m",
      "\u001b[1;31mNameError\u001b[0m                                 Traceback (most recent call last)",
      "\u001b[1;32m~\\AppData\\Local\\Temp\\ipykernel_25000\\3405082966.py\u001b[0m in \u001b[0;36m<module>\u001b[1;34m\u001b[0m\n\u001b[1;32m----> 1\u001b[1;33m \u001b[0mst\u001b[0m\u001b[1;33m.\u001b[0m\u001b[0mheader\u001b[0m\u001b[1;33m(\u001b[0m\u001b[1;34m'Extração de Features'\u001b[0m\u001b[1;33m)\u001b[0m\u001b[1;33m\u001b[0m\u001b[1;33m\u001b[0m\u001b[0m\n\u001b[0m\u001b[0;32m      2\u001b[0m \u001b[1;32mif\u001b[0m \u001b[0mst\u001b[0m\u001b[1;33m.\u001b[0m\u001b[0mbutton\u001b[0m\u001b[1;33m(\u001b[0m\u001b[1;34m'Start'\u001b[0m\u001b[1;33m)\u001b[0m\u001b[1;33m:\u001b[0m\u001b[1;33m\u001b[0m\u001b[1;33m\u001b[0m\u001b[0m\n\u001b[0;32m      3\u001b[0m     \u001b[1;32mdef\u001b[0m \u001b[0mpublish\u001b[0m\u001b[1;33m(\u001b[0m\u001b[0mclient\u001b[0m\u001b[1;33m)\u001b[0m\u001b[1;33m:\u001b[0m\u001b[1;33m\u001b[0m\u001b[1;33m\u001b[0m\u001b[0m\n\u001b[0;32m      4\u001b[0m         \u001b[0minicio\u001b[0m \u001b[1;33m=\u001b[0m \u001b[1;34m'start'\u001b[0m\u001b[1;33m\u001b[0m\u001b[1;33m\u001b[0m\u001b[0m\n\u001b[0;32m      5\u001b[0m         \u001b[0mresult\u001b[0m \u001b[1;33m=\u001b[0m \u001b[0mclient\u001b[0m\u001b[1;33m.\u001b[0m\u001b[0mpublish\u001b[0m\u001b[1;33m(\u001b[0m\u001b[0mtopic\u001b[0m\u001b[1;33m,\u001b[0m \u001b[0minicio\u001b[0m\u001b[1;33m)\u001b[0m\u001b[1;33m\u001b[0m\u001b[1;33m\u001b[0m\u001b[0m\n",
      "\u001b[1;31mNameError\u001b[0m: name 'st' is not defined"
     ]
    }
   ],
   "source": [
    "st.header('Extração de Features')\n",
    "if st.button('Start'):\n",
    "    def publish(client):\n",
    "        inicio = 'start'\n",
    "        result = client.publish(topic, inicio)\n",
    "        status = result[0]\n",
    "        if status == 0:\n",
    "            print(f\"Message sent to topic `{topic}`\")\n",
    "        else:\n",
    "            print(f\"Failed to send message to topic {topic}\")\n",
    "            publish(client)\n"
   ]
  },
  {
   "cell_type": "code",
   "execution_count": 4,
   "id": "7f0f3724",
   "metadata": {},
   "outputs": [
    {
     "ename": "NameError",
     "evalue": "name 'librosa' is not defined",
     "output_type": "error",
     "traceback": [
      "\u001b[1;31m---------------------------------------------------------------------------\u001b[0m",
      "\u001b[1;31mNameError\u001b[0m                                 Traceback (most recent call last)",
      "\u001b[1;32m~\\AppData\\Local\\Temp\\ipykernel_25000\\3851152947.py\u001b[0m in \u001b[0;36m<module>\u001b[1;34m\u001b[0m\n\u001b[0;32m      1\u001b[0m \u001b[1;31m# ficheiro som para data\u001b[0m\u001b[1;33m\u001b[0m\u001b[1;33m\u001b[0m\u001b[0m\n\u001b[1;32m----> 2\u001b[1;33m \u001b[0mdata\u001b[0m\u001b[1;33m,\u001b[0m \u001b[0mfs\u001b[0m \u001b[1;33m=\u001b[0m \u001b[0mlibrosa\u001b[0m\u001b[1;33m.\u001b[0m\u001b[0mload\u001b[0m\u001b[1;33m(\u001b[0m\u001b[1;34m'c:/Users/nenes/Desktop/Projeto AAIB/inesoliveira.wav'\u001b[0m\u001b[1;33m,\u001b[0m\u001b[0msr\u001b[0m\u001b[1;33m=\u001b[0m\u001b[1;36m44100\u001b[0m\u001b[1;33m)\u001b[0m\u001b[1;33m\u001b[0m\u001b[1;33m\u001b[0m\u001b[0m\n\u001b[0m\u001b[0;32m      3\u001b[0m \u001b[1;31m#Espectograma --\u001b[0m\u001b[1;33m\u001b[0m\u001b[1;33m\u001b[0m\u001b[0m\n\u001b[0;32m      4\u001b[0m \u001b[0mlibrosa\u001b[0m\u001b[1;33m.\u001b[0m\u001b[0mstft\u001b[0m\u001b[1;33m(\u001b[0m\u001b[0mdata\u001b[0m\u001b[1;33m)\u001b[0m\u001b[1;33m\u001b[0m\u001b[1;33m\u001b[0m\u001b[0m\n\u001b[0;32m      5\u001b[0m \u001b[1;31m#sinal dos dados -- valores imaginários - complexos\u001b[0m\u001b[1;33m\u001b[0m\u001b[1;33m\u001b[0m\u001b[0m\n",
      "\u001b[1;31mNameError\u001b[0m: name 'librosa' is not defined"
     ]
    }
   ],
   "source": [
    "# ficheiro som para data\n",
    "data, fs = librosa.load('c:/Users/nenes/Desktop/Projeto AAIB/inesoliveira.wav',sr=44100)\n",
    "#Espectograma -- \n",
    "librosa.stft(data)\n",
    "#sinal dos dados -- valores imaginários - complexos\n",
    "#usar módulo para tirar os imaginários\n",
    "np.abs(librosa.stft(data))\n",
    "D=librosa.amplitude_to_db(np.abs(librosa.stft(data)))\n",
    "#amplitude em db para o espectograma\n",
    "plt.figure(figsize=(12,5))\n",
    "D=librosa.amplitude_to_db(np.abs(librosa.stft(data)))\n",
    "librosa.display.specshow(D,x_axis='time',y_axis='linear', sr=fs,cmap='jet')\n",
    "plt.xlabel('Time [m]')\n",
    "plt.ylabel('Frequência [Hz]')\n",
    "plt.colorbar(format='%+2.0f dB')\n",
    "plt.title(\"Espectograma\")"
   ]
  },
  {
   "cell_type": "code",
   "execution_count": null,
   "id": "a74254f2",
   "metadata": {},
   "outputs": [],
   "source": []
  },
  {
   "cell_type": "code",
   "execution_count": 28,
   "id": "2490615a",
   "metadata": {},
   "outputs": [],
   "source": [
    "if st.button('Gráficos'):        \n",
    "    publish(client)\n",
    "\n",
    "    st.header('Extração de Features')\n",
    "    y, sr = librosa.load('inesoliveira.wav') #descarregar o ficheiro\n",
    "    \n",
    "    # chromagram\n",
    "    st.subheader('Chromagram')\n",
    "\n",
    "    plt.figure(figsize=(15, 3))\n",
    "    chromagram = librosa.feature.chroma_stft(g,sr=sr)\n",
    "    librosa.display.specshow(chromagram)\n",
    "    st.pyplot()\n",
    "    \n",
    "    \n",
    "    # espetrograma\n",
    "    st.subheader('Espectograma')\n",
    "    \n",
    "    X = librosa.stft(g)\n",
    "    Xdb = librosa.amplitude_to_db(abs(X))\n",
    "    plt.figure(figsize=(15, 3))\n",
    "    librosa.display.specshow(Xdb, sr=sr, x_axis='time', y_axis='hz')\n",
    "    plt.colorbar()\n",
    "    st.set_option('deprecation.showPyplotGlobalUse', False)\n",
    "    st.pyplot()\n",
    "\n",
    "    #mel spectograms\n",
    "    st.subheader('Mel spectogram')\n",
    "    \n",
    "    plt.figure(figsize=(15, 3))\n",
    "    s_audio = librosa.feature.melspectrogram(g, sr=sr)\n",
    "    librosa.display.specshow(s_audio)\n",
    "    st.pyplot()\n",
    "\n",
    "    # Magnitude total do sinal (sonoridade / parametro de energia)\n",
    "    st.subheader('Sonoridade')\n",
    "    \n",
    "    # Valor de RMS para cada valor de magnitude\n",
    "    S, phase = librosa.magphase(librosa.stft(g)) #frequencia e fase\n",
    "    rms = librosa.feature.rms(S=S) #root mean square da gravacao\n",
    "    \n",
    "    # Grafico\n",
    "    fig, ax = plt.subplots(figsize=(15, 6), nrows=2, sharex=True)\n",
    "    times = librosa.times_like(rms)\n",
    "    ax[0].semilogy(times, rms[0], label='Energia RMS')\n",
    "    ax[0].set(xticks=[])\n",
    "    ax[0].legend()\n",
    "    ax[0].label_outer()\n",
    "    librosa.display.specshow(librosa.amplitude_to_db(S, ref=np.max),\n",
    "                            y_axis='log', x_axis='time', ax=ax[1])\n",
    "    ax[1].set(title='Espetrograma da Magnitude logarítmico')\n",
    "    st.pyplot()\n",
    "    \n",
    "    #zero crossing rate\n",
    "    st.subheader('Zero Crossing Rate')\n",
    "    \n",
    "    zcrs = librosa.feature.zero_crossing_rate(g)\n",
    "    print(f\"Zero crossing rate: {sum(librosa.zero_crossings(g))}\")\n",
    "    plt.figure(figsize=(15, 3))\n",
    "    plt.plot(zcrs[0])\n",
    "    plt.title('Zero Crossing Rate')\n",
    "    st.pyplot()\n",
    "    \n",
    "\n",
    "    "
   ]
  },
  {
   "cell_type": "code",
   "execution_count": 29,
   "id": "b14705c5",
   "metadata": {},
   "outputs": [
    {
     "ename": "NameError",
     "evalue": "name 'publish' is not defined",
     "output_type": "error",
     "traceback": [
      "\u001b[1;31m---------------------------------------------------------------------------\u001b[0m",
      "\u001b[1;31mNameError\u001b[0m                                 Traceback (most recent call last)",
      "\u001b[1;32m<ipython-input-29-ac6999911865>\u001b[0m in \u001b[0;36m<module>\u001b[1;34m\u001b[0m\n\u001b[1;32m----> 1\u001b[1;33m \u001b[0mpublish\u001b[0m\u001b[1;33m(\u001b[0m\u001b[0mclient\u001b[0m\u001b[1;33m)\u001b[0m\u001b[1;33m\u001b[0m\u001b[1;33m\u001b[0m\u001b[0m\n\u001b[0m",
      "\u001b[1;31mNameError\u001b[0m: name 'publish' is not defined"
     ]
    }
   ],
   "source": [
    "publish(client)"
   ]
  },
  {
   "cell_type": "code",
   "execution_count": null,
   "id": "fe75f985",
   "metadata": {},
   "outputs": [],
   "source": []
  }
 ],
 "metadata": {
  "kernelspec": {
   "display_name": "Python 3 (ipykernel)",
   "language": "python",
   "name": "python3"
  },
  "language_info": {
   "codemirror_mode": {
    "name": "ipython",
    "version": 3
   },
   "file_extension": ".py",
   "mimetype": "text/x-python",
   "name": "python",
   "nbconvert_exporter": "python",
   "pygments_lexer": "ipython3",
   "version": "3.9.13"
  }
 },
 "nbformat": 4,
 "nbformat_minor": 5
}
